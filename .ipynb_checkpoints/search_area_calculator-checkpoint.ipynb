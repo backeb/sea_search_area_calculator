{
 "cells": [
  {
   "cell_type": "markdown",
   "metadata": {},
   "source": [
    "# Search area calculator\n",
    "Author(s): [Bjorn Backeberg](mailto:backeb@gmail.com) (backeb) <br> \n",
    "Creation date: 15-Sep-2017 <br>\n",
    "Last updated:  27-Apr-2019 <br>\n",
    "\n",
    "---\n",
    "\n",
    "## Purpose\n",
    "Calculate search areas in the ocean for persons/objects lost at sea.\n",
    "\n",
    "This notebook is based on the search area calculator I originally developed for the [OCIMS](https://www.ocims.gov.za/) \"Operations at Sea\" decision support tool in collaboration with the [NSRI](https://www.nsri.org.za/).\n",
    "\n",
    "---"
   ]
  },
  {
   "cell_type": "markdown",
   "metadata": {
    "heading_collapsed": true
   },
   "source": [
    "## Dependencies & Change Log"
   ]
  },
  {
   "cell_type": "markdown",
   "metadata": {
    "hidden": true
   },
   "source": [
    "### Dependencies\n",
    "\n",
    "* python 2.7 (3)\n",
    "* gpxpy.geo\n",
    "* math\n",
    "* numpy\n",
    "* datetime\n",
    "* pynio\n",
    "\n",
    "### Change Log\n",
    "\n",
    "```Date: Author - Comment\n",
    "28 Sep 2017: bjornb - added code to plot drift vector on basemap\n",
    "03 Oct 2017: bjornb - added code get search area radius, note dependency on gpxpy library, to install do \n",
    "                      >> conda install -c conda-forge gpxpy\n",
    "                      or \n",
    "                      >> pip install gpxpy --user\n",
    "09 Oct 2017: bjornb - added code to get coordinates of the square around the search area\n",
    "10 Oct 2017: bjornb - rewrote into functions\n",
    "01 Nov 2017: bjornb - added deltaT, i.e. multiply drift vector by deltaT in hours and recalculate search area\n",
    "20 Mar 2018: bjornb - rewrote code to do \"dynamic\" drift vector calculation and include divergence when tdelta >1\n",
    "11 Jul 2018: bjornb - added opendap call to get real-time winds from GFS, uses xarray and pynio\n",
    "                      Note: xarray/pynio engine is buggy when working on large datasets but works fine when\n",
    "                      calling point locations. see issue: https://github.com/NCAR/pynio/issues/22\n",
    "                      to install pynio do the following:\n",
    "                      >> conda create -n pynioEnv python=2.7 anaconda\n",
    "                      >> source activate pynioEnv\n",
    "                      >> conda install numpy pandas jupyter basemap xarray netcdf4 dask\n",
    "                      >> conda install -c ncar pynio\n",
    "02 Aug 2018: bjornb - added boolean to get_winds() to use local gfs_winds.nc datastack if available, else call\n",
    "                      from GFS opendap```"
   ]
  },
  {
   "cell_type": "markdown",
   "metadata": {
    "hidden": true
   },
   "source": [
    "<span style=\"color:red\">**To do:**</span><br> \n",
    "https://ndres.me/post/best-jupyter-notebook-extensions/ <br>\n",
    "https://ipywidgets.readthedocs.io/en/stable/examples/Widget%20List.html"
   ]
  },
  {
   "cell_type": "markdown",
   "metadata": {},
   "source": [
    "## Functions"
   ]
  },
  {
   "cell_type": "code",
   "execution_count": null,
   "metadata": {
    "ExecuteTime": {
     "end_time": "2019-04-28T06:40:21.137821Z",
     "start_time": "2019-04-28T06:40:21.122093Z"
    }
   },
   "outputs": [],
   "source": [
    "def get_time_delta(tLKP, tETA):\n",
    "    \"\"\"function to calculate time in hours between input start time and input end time\n",
    "    \n",
    "    USAGE\n",
    "        tdelta = get_time_delta(tLKP, tETA)\n",
    "    \n",
    "    INPUT\n",
    "        tLKP    =   time of last known position, in 'HH:MM' (as string)\n",
    "        tETA    =   estimated time of arrival of rescue unit, in 'HH:MM' (as string)\n",
    "    \n",
    "    OUTPUT\n",
    "        tdelta  =   time delta in hours\n",
    "    \"\"\"\n",
    "    from datetime import datetime\n",
    "    \n",
    "    # define format of input\n",
    "    FMT = '%H:%M'\n",
    "\n",
    "    # calcualte time in hours\n",
    "    tdelta = datetime.strptime(tETA, FMT) - datetime.strptime(tLKP, FMT)\n",
    "    tdelta = round(float(tdelta.seconds)/60/60) # convert to hours\n",
    "    \n",
    "    return tdelta"
   ]
  },
  {
   "cell_type": "markdown",
   "metadata": {},
   "source": [
    "# <span style=\"color:red\"> **@backeb :: continue here** </span>"
   ]
  },
  {
   "cell_type": "code",
   "execution_count": null,
   "metadata": {},
   "outputs": [],
   "source": []
  },
  {
   "cell_type": "code",
   "execution_count": null,
   "metadata": {},
   "outputs": [],
   "source": []
  },
  {
   "cell_type": "code",
   "execution_count": 21,
   "metadata": {
    "ExecuteTime": {
     "end_time": "2019-04-29T06:51:27.163641Z",
     "start_time": "2019-04-29T06:51:27.150745Z"
    }
   },
   "outputs": [
    {
     "data": {
      "application/vnd.jupyter.widget-view+json": {
       "model_id": "f53ff5a2a9a143f2bdc423d9bdcca8b9",
       "version_major": 2,
       "version_minor": 0
      },
      "text/plain": [
       "Dropdown(options=('Select casualty type', 'Person in water, state unknown', 'Person in water, with lifejacket'…"
      ]
     },
     "metadata": {},
     "output_type": "display_data"
    }
   ],
   "source": [
    "import ipywidgets as widgets\n",
    "from IPython.display import display\n",
    "\n",
    "vardict = [\"Select casualty type\",\n",
    "           \"Person in water, state unknown\",\n",
    "           \"Person in water, with lifejacket\",\n",
    "           \"Person in water, verticle\"\n",
    "          ]\n",
    "casualty_type = widgets.Dropdown(\n",
    "    options=vardict,\n",
    "    value=vardict[0],\n",
    "    disabled=False,\n",
    "    button_style=''\n",
    ")\n",
    "\n",
    "\n",
    "display(casualty_type)"
   ]
  },
  {
   "cell_type": "code",
   "execution_count": 20,
   "metadata": {
    "ExecuteTime": {
     "end_time": "2019-04-29T06:51:07.738596Z",
     "start_time": "2019-04-29T06:51:07.734188Z"
    }
   },
   "outputs": [
    {
     "data": {
      "text/plain": [
       "'Person in water, state unknown'"
      ]
     },
     "execution_count": 20,
     "metadata": {},
     "output_type": "execute_result"
    }
   ],
   "source": [
    "casualty_type.value"
   ]
  }
 ],
 "metadata": {
  "kernelspec": {
   "display_name": "Python 3",
   "language": "python",
   "name": "python3"
  },
  "language_info": {
   "codemirror_mode": {
    "name": "ipython",
    "version": 3
   },
   "file_extension": ".py",
   "mimetype": "text/x-python",
   "name": "python",
   "nbconvert_exporter": "python",
   "pygments_lexer": "ipython3",
   "version": "3.7.1"
  }
 },
 "nbformat": 4,
 "nbformat_minor": 2
}
